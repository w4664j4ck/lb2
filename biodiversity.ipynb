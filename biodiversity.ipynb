{
  "cells": [
    {
      "metadata": {},
      "cell_type": "markdown",
      "source": "# Capstone 2: Biodiversity Project"
    },
    {
      "metadata": {},
      "cell_type": "markdown",
      "source": "# Introduction\nYou are a biodiversity analyst working for the National Parks Service.  You're going to help them analyze some data about species at various national parks.\n\nNote: The data that you'll be working with for this project is *inspired* by real data, but is mostly fictional."
    },
    {
      "metadata": {},
      "cell_type": "markdown",
      "source": "# Step 1\nImport the modules that you'll be using in this assignment:\n- `from matplotlib import pyplot as plt`\n- `import pandas as pd`"
    },
    {
      "metadata": {
        "trusted": true
      },
      "cell_type": "code",
      "source": "from matplotlib import pyplot as plt\nimport pandas as pd",
      "execution_count": 1,
      "outputs": [
        {
          "output_type": "stream",
          "text": "/home/nbuser/anaconda3_420/lib/python3.5/site-packages/matplotlib/font_manager.py:281: UserWarning: Matplotlib is building the font cache using fc-list. This may take a moment.\n  'Matplotlib is building the font cache using fc-list. '\n",
          "name": "stderr"
        }
      ]
    },
    {
      "metadata": {},
      "cell_type": "markdown",
      "source": "# Step 2\nYou have been given two CSV files. `species_info.csv` with data about different species in our National Parks, including:\n- The scientific name of each species\n- The common names of each species\n- The species conservation status\n\nLoad the dataset and inspect it:\n- Load `species_info.csv` into a DataFrame called `species`"
    },
    {
      "metadata": {
        "trusted": true
      },
      "cell_type": "code",
      "source": "species = pd.read_csv('species_info.csv', index_col=None, header=0)",
      "execution_count": 3,
      "outputs": []
    },
    {
      "metadata": {},
      "cell_type": "markdown",
      "source": "Inspect each DataFrame using `.head()`."
    },
    {
      "metadata": {
        "trusted": true
      },
      "cell_type": "code",
      "source": "print(species.head())",
      "execution_count": 4,
      "outputs": [
        {
          "output_type": "stream",
          "text": "  category                scientific_name  \\\n0   Mammal  Clethrionomys gapperi gapperi   \n1   Mammal                      Bos bison   \n2   Mammal                     Bos taurus   \n3   Mammal                     Ovis aries   \n4   Mammal                 Cervus elaphus   \n\n                                        common_names conservation_status  \n0                           Gapper's Red-Backed Vole                 NaN  \n1                              American Bison, Bison                 NaN  \n2  Aurochs, Aurochs, Domestic Cattle (Feral), Dom...                 NaN  \n3  Domestic Sheep, Mouflon, Red Sheep, Sheep (Feral)                 NaN  \n4                                      Wapiti Or Elk                 NaN  \n",
          "name": "stdout"
        }
      ]
    },
    {
      "metadata": {},
      "cell_type": "markdown",
      "source": "# Step 3\nLet's start by learning a bit more about our data.  Answer each of the following questions."
    },
    {
      "metadata": {},
      "cell_type": "markdown",
      "source": "How many different species are in the `species` DataFrame?"
    },
    {
      "metadata": {
        "trusted": true
      },
      "cell_type": "code",
      "source": "species.drop_duplicates()\nprint(species.shape[0])",
      "execution_count": 9,
      "outputs": [
        {
          "output_type": "stream",
          "text": "5824\n",
          "name": "stdout"
        }
      ]
    },
    {
      "metadata": {},
      "cell_type": "markdown",
      "source": "What are the different values of `category` in `species`?"
    },
    {
      "metadata": {
        "trusted": true
      },
      "cell_type": "code",
      "source": "print(species.category.unique())",
      "execution_count": 10,
      "outputs": [
        {
          "output_type": "stream",
          "text": "['Mammal' 'Bird' 'Reptile' 'Amphibian' 'Fish' 'Vascular Plant'\n 'Nonvascular Plant']\n",
          "name": "stdout"
        }
      ]
    },
    {
      "metadata": {},
      "cell_type": "markdown",
      "source": "What are the different values of `conservation_status`?"
    },
    {
      "metadata": {
        "trusted": true
      },
      "cell_type": "code",
      "source": "print(species.conservation_status.unique())",
      "execution_count": 11,
      "outputs": [
        {
          "output_type": "stream",
          "text": "[nan 'Species of Concern' 'Endangered' 'Threatened' 'In Recovery']\n",
          "name": "stdout"
        }
      ]
    },
    {
      "metadata": {},
      "cell_type": "markdown",
      "source": "# Step 4\nLet's start doing some analysis!\n\nThe column `conservation_status` has several possible values:\n- `Species of Concern`: declining or appear to be in need of conservation\n- `Threatened`: vulnerable to endangerment in the near future\n- `Endangered`: seriously at risk of extinction\n- `In Recovery`: formerly `Endangered`, but currnetly neither in danger of extinction throughout all or a significant portion of its range\n\nWe'd like to count up how many species meet each of these criteria.  Use `groupby` to count how many `scientific_name` meet each of these criteria."
    },
    {
      "metadata": {
        "trusted": true
      },
      "cell_type": "code",
      "source": "print(species.groupby(['conservation_status','scientific_name']).first())",
      "execution_count": 14,
      "outputs": [
        {
          "output_type": "stream",
          "text": "                                                              category  \\\nconservation_status scientific_name                                      \nEndangered          Canis lupus                                 Mammal   \n                    Canis rufus                                 Mammal   \n                    Chasmistes liorus                             Fish   \n                    Etheostoma percnurum                          Fish   \n                    Geum radiatum                       Vascular Plant   \n                    Glaucomys sabrinus coloratus                Mammal   \n                    Grus americana                                Bird   \n                    Gymnogyps californianus                       Bird   \n                    Myotis grisescens                           Mammal   \n                    Myotis sodalis                              Mammal   \n                    Noturus baileyi                               Fish   \n                    Ovis canadensis sierrae                     Mammal   \n                    Picoides borealis                             Bird   \n                    Rana sierrae                             Amphibian   \n                    Vermivora bachmanii                           Bird   \nIn Recovery         Canis lupus                                 Mammal   \n                    Falco peregrinus anatum                       Bird   \n                    Haliaeetus leucocephalus                      Bird   \n                    Pelecanus occidentalis                        Bird   \nSpecies of Concern  Abies fraseri                       Vascular Plant   \n                    Abronia ammophila                   Vascular Plant   \n                    Accipiter cooperii                            Bird   \n                    Accipiter striatus                            Bird   \n                    Achnatherum contractum              Vascular Plant   \n                    Aechmophorus occidentalis                     Bird   \n                    Aimophila aestivalis                          Bird   \n                    Allium tribracteatum                Vascular Plant   \n                    Ammodramus savannarum                         Bird   \n                    Antrozous pallidus                          Mammal   \n                    Aplodontia rufa californica                 Mammal   \n...                                                                ...   \n                    Silene ovata                        Vascular Plant   \n                    Sium suave                          Vascular Plant   \n                    Sorex preblei                               Mammal   \n                    Sphyrapicus thyroideus                        Bird   \n                    Sphyrapicus varius                            Bird   \n                    Spizella breweri                              Bird   \n                    Stellula calliope                             Bird   \n                    Sterna hirundo                                Bird   \n                    Sylvilagus bachmani                         Mammal   \n                    Tachycineta bicolor                           Bird   \n                    Taxidea taxus                               Mammal   \n                    Thryomanes bewickii altus                     Bird   \n                    Tofieldia glabra                    Vascular Plant   \n                    Tortula ammonsiana               Nonvascular Plant   \n                    Trifolium bolanderi                 Vascular Plant   \n                    Trillium pusillum var. pusillum     Vascular Plant   \n                    Vaccinium hirsutum                  Vascular Plant   \n                    Vermivora ruficapilla                         Bird   \n                    Wilsonia pusilla                              Bird   \n                    Zizia trifoliata                    Vascular Plant   \nThreatened          Anaxyrus canorus                         Amphibian   \n                    Erimonax monachus                             Fish   \n                    Isotria medeoloides                 Vascular Plant   \n                    Myotis septentrionalis                      Mammal   \n                    Noturus flavipinnis                           Fish   \n                    Oncorhynchus clarkii henshawi                 Fish   \n                    Oncorhynchus mykiss                           Fish   \n                    Rana draytonii                           Amphibian   \n                    Spiraea virginiana                  Vascular Plant   \n                    Ursus arctos horribilis                     Mammal   \n\n                                                                                          common_names  \nconservation_status scientific_name                                                                     \nEndangered          Canis lupus                                                              Gray Wolf  \n                    Canis rufus                                                               Red Wolf  \n                    Chasmistes liorus                                                      June Sucker  \n                    Etheostoma percnurum                                              Duskytail Darter  \n                    Geum radiatum                                      Mountain Avens, Spreading Avens  \n                    Glaucomys sabrinus coloratus     Carolina Northern Flying Squirrel, Northern Fl...  \n                    Grus americana                                                      Whooping Crane  \n                    Gymnogyps californianus                                          California Condor  \n                    Myotis grisescens                                                      Gray Myotis  \n                    Myotis sodalis                               Indiana Bat, Indiana Or Social Myotis  \n                    Noturus baileyi                                                       Smoky Madtom  \n                    Ovis canadensis sierrae                                Sierra Nevada Bighorn Sheep  \n                    Picoides borealis                                          Red-Cockaded Woodpecker  \n                    Rana sierrae                                      Sierra Nevada Yellow-Legged Frog  \n                    Vermivora bachmanii                      Bachman's Warbler, Bachman's Wood Warbler  \nIn Recovery         Canis lupus                                                        Gray Wolf, Wolf  \n                    Falco peregrinus anatum                                  American Peregrine Falcon  \n                    Haliaeetus leucocephalus                                                Bald Eagle  \n                    Pelecanus occidentalis                                               Brown Pelican  \nSpecies of Concern  Abies fraseri                                                           Fraser Fir  \n                    Abronia ammophila                   Wyoming Sand Verbena, Yellowstone Sand Verbena  \n                    Accipiter cooperii                                                   Cooper's Hawk  \n                    Accipiter striatus                                              Sharp-Shinned Hawk  \n                    Achnatherum contractum                                        Contracted Ricegrass  \n                    Aechmophorus occidentalis                                            Western Grebe  \n                    Aimophila aestivalis                                             Bachman's Sparrow  \n                    Allium tribracteatum                                              Threebract Onion  \n                    Ammodramus savannarum                                          Grasshopper Sparrow  \n                    Antrozous pallidus                                          Pallid Bat, Pallid Bat  \n                    Aplodontia rufa californica                          Sierra Nevada Mountain Beaver  \n...                                                                                                ...  \n                    Silene ovata                               Mountain Catchfly, Rough-Leaved Campion  \n                    Sium suave                       Common Waterparsnip, Hemlock Waterparsnip, Hem...  \n                    Sorex preblei                                        Malheur Shrew, Preble's Shrew  \n                    Sphyrapicus thyroideus                                      Williamson's Sapsucker  \n                    Sphyrapicus varius                                        Yellow-Bellied Sapsucker  \n                    Spizella breweri                                                  Brewer's Sparrow  \n                    Stellula calliope                                             Calliope Hummingbird  \n                    Sterna hirundo                                                         Common Tern  \n                    Sylvilagus bachmani                                                   Brush Rabbit  \n                    Tachycineta bicolor                                                   Tree Swallow  \n                    Taxidea taxus                                              American Badger, Badger  \n                    Thryomanes bewickii altus                                Appalachian Bewick's Wren  \n                    Tofieldia glabra                             Smooth Bog-Asphodel, Smooth Tofieldia  \n                    Tortula ammonsiana                                              Ammon's Screw-Moss  \n                    Trifolium bolanderi                                                 Parasol Clover  \n                    Trillium pusillum var. pusillum                                    Dwarf Wakerobin  \n                    Vaccinium hirsutum                                                 Hairy Blueberry  \n                    Vermivora ruficapilla                                            Nashville Warbler  \n                    Wilsonia pusilla                                                  Wilson's Warbler  \n                    Zizia trifoliata                 Meadow Alexanders, Three-Leaved Golden Alexanders  \nThreatened          Anaxyrus canorus                                                     Yosemite Toad  \n                    Erimonax monachus                                                     Spotfin Chub  \n                    Isotria medeoloides                                          Small Whorled Pogonia  \n                    Myotis septentrionalis                    Northern Long-Eared Bat, Northern Myotis  \n                    Noturus flavipinnis                                               Yellowfin Madtom  \n                    Oncorhynchus clarkii henshawi                             Lahontan Cutthroat Trout  \n                    Oncorhynchus mykiss                                                  Rainbow Trout  \n                    Rana draytonii                                          California Red-Legged Frog  \n                    Spiraea virginiana                                                Virginia Spiraea  \n                    Ursus arctos horribilis                                               Grizzly Bear  \n\n[180 rows x 2 columns]\n",
          "name": "stdout"
        }
      ]
    },
    {
      "metadata": {},
      "cell_type": "markdown",
      "source": "As we saw before, there are far more than 200 species in the `species` table.  Clearly, only a small number of them are categorized as needing some sort of protection.  The rest have `conservation_status` equal to `None`.  Because `groupby` does not include `None`, we will need to fill in the null values.  We can do this using `.fillna`.  We pass in however we want to fill in our `None` values as an argument.\n\nPaste the following code and run it to see replace `None` with `No Intervention`:\n```python\nspecies.fillna('No Intervention', inplace=True)\n```"
    },
    {
      "metadata": {
        "trusted": true
      },
      "cell_type": "code",
      "source": "species.fillna('No Intervention', inplace=True)",
      "execution_count": 15,
      "outputs": []
    },
    {
      "metadata": {},
      "cell_type": "markdown",
      "source": "Great! Now run the same `groupby` as before to see how many species require `No Intervention`."
    },
    {
      "metadata": {
        "trusted": true
      },
      "cell_type": "code",
      "source": "print(species.groupby(['conservation_status','scientific_name']).first())",
      "execution_count": 16,
      "outputs": [
        {
          "output_type": "stream",
          "text": "                                                              category  \\\nconservation_status scientific_name                                      \nEndangered          Canis lupus                                 Mammal   \n                    Canis rufus                                 Mammal   \n                    Chasmistes liorus                             Fish   \n                    Etheostoma percnurum                          Fish   \n                    Geum radiatum                       Vascular Plant   \n                    Glaucomys sabrinus coloratus                Mammal   \n                    Grus americana                                Bird   \n                    Gymnogyps californianus                       Bird   \n                    Myotis grisescens                           Mammal   \n                    Myotis sodalis                              Mammal   \n                    Noturus baileyi                               Fish   \n                    Ovis canadensis sierrae                     Mammal   \n                    Picoides borealis                             Bird   \n                    Rana sierrae                             Amphibian   \n                    Vermivora bachmanii                           Bird   \nIn Recovery         Canis lupus                                 Mammal   \n                    Falco peregrinus anatum                       Bird   \n                    Haliaeetus leucocephalus                      Bird   \n                    Pelecanus occidentalis                        Bird   \nNo Intervention     Abies bifolia                       Vascular Plant   \n                    Abies concolor                      Vascular Plant   \n                    Abietinella abietina             Nonvascular Plant   \n                    Abutilon theophrasti                Vascular Plant   \n                    Acalypha gracilens                  Vascular Plant   \n                    Acalypha ostryifolia                Vascular Plant   \n                    Acalypha rhomboidea                 Vascular Plant   \n                    Acalypha virginica                  Vascular Plant   \n                    Acanthus flammea                              Bird   \n                    Accipiter gentilis                            Bird   \n                    Acer glabrum                        Vascular Plant   \n...                                                                ...   \nSpecies of Concern  Silene ovata                        Vascular Plant   \n                    Sium suave                          Vascular Plant   \n                    Sorex preblei                               Mammal   \n                    Sphyrapicus thyroideus                        Bird   \n                    Sphyrapicus varius                            Bird   \n                    Spizella breweri                              Bird   \n                    Stellula calliope                             Bird   \n                    Sterna hirundo                                Bird   \n                    Sylvilagus bachmani                         Mammal   \n                    Tachycineta bicolor                           Bird   \n                    Taxidea taxus                               Mammal   \n                    Thryomanes bewickii altus                     Bird   \n                    Tofieldia glabra                    Vascular Plant   \n                    Tortula ammonsiana               Nonvascular Plant   \n                    Trifolium bolanderi                 Vascular Plant   \n                    Trillium pusillum var. pusillum     Vascular Plant   \n                    Vaccinium hirsutum                  Vascular Plant   \n                    Vermivora ruficapilla                         Bird   \n                    Wilsonia pusilla                              Bird   \n                    Zizia trifoliata                    Vascular Plant   \nThreatened          Anaxyrus canorus                         Amphibian   \n                    Erimonax monachus                             Fish   \n                    Isotria medeoloides                 Vascular Plant   \n                    Myotis septentrionalis                      Mammal   \n                    Noturus flavipinnis                           Fish   \n                    Oncorhynchus clarkii henshawi                 Fish   \n                    Oncorhynchus mykiss                           Fish   \n                    Rana draytonii                           Amphibian   \n                    Spiraea virginiana                  Vascular Plant   \n                    Ursus arctos horribilis                     Mammal   \n\n                                                                                          common_names  \nconservation_status scientific_name                                                                     \nEndangered          Canis lupus                                                              Gray Wolf  \n                    Canis rufus                                                               Red Wolf  \n                    Chasmistes liorus                                                      June Sucker  \n                    Etheostoma percnurum                                              Duskytail Darter  \n                    Geum radiatum                                      Mountain Avens, Spreading Avens  \n                    Glaucomys sabrinus coloratus     Carolina Northern Flying Squirrel, Northern Fl...  \n                    Grus americana                                                      Whooping Crane  \n                    Gymnogyps californianus                                          California Condor  \n                    Myotis grisescens                                                      Gray Myotis  \n                    Myotis sodalis                               Indiana Bat, Indiana Or Social Myotis  \n                    Noturus baileyi                                                       Smoky Madtom  \n                    Ovis canadensis sierrae                                Sierra Nevada Bighorn Sheep  \n                    Picoides borealis                                          Red-Cockaded Woodpecker  \n                    Rana sierrae                                      Sierra Nevada Yellow-Legged Frog  \n                    Vermivora bachmanii                      Bachman's Warbler, Bachman's Wood Warbler  \nIn Recovery         Canis lupus                                                        Gray Wolf, Wolf  \n                    Falco peregrinus anatum                                  American Peregrine Falcon  \n                    Haliaeetus leucocephalus                                                Bald Eagle  \n                    Pelecanus occidentalis                                               Brown Pelican  \nNo Intervention     Abies bifolia                                            Rocky Mountain Alpine Fir  \n                    Abies concolor                   Balsam Fir, Colorado Fir, Concolor Fir, Silver...  \n                    Abietinella abietina                                              Abietinella Moss  \n                    Abutilon theophrasti                                                    Velvetleaf  \n                    Acalypha gracilens               Narrow-Leaved Three-Seeded Mercury, Slender Co...  \n                    Acalypha ostryifolia             Hornbeam Copper-Leaf, Hornbeam-Leaved Three-Se...  \n                    Acalypha rhomboidea              Common Threeseed Mercury, Virginia Threeseed M...  \n                    Acalypha virginica                 Virginia Copperleaf, Virginia Threeseed Mercury  \n                    Acanthus flammea                                           Common Redpoll, Redpoll  \n                    Accipiter gentilis                                                Northern Goshawk  \n                    Acer glabrum                                                  Rocky Mountain Maple  \n...                                                                                                ...  \nSpecies of Concern  Silene ovata                               Mountain Catchfly, Rough-Leaved Campion  \n                    Sium suave                       Common Waterparsnip, Hemlock Waterparsnip, Hem...  \n                    Sorex preblei                                        Malheur Shrew, Preble's Shrew  \n                    Sphyrapicus thyroideus                                      Williamson's Sapsucker  \n                    Sphyrapicus varius                                        Yellow-Bellied Sapsucker  \n                    Spizella breweri                                                  Brewer's Sparrow  \n                    Stellula calliope                                             Calliope Hummingbird  \n                    Sterna hirundo                                                         Common Tern  \n                    Sylvilagus bachmani                                                   Brush Rabbit  \n                    Tachycineta bicolor                                                   Tree Swallow  \n                    Taxidea taxus                                              American Badger, Badger  \n                    Thryomanes bewickii altus                                Appalachian Bewick's Wren  \n                    Tofieldia glabra                             Smooth Bog-Asphodel, Smooth Tofieldia  \n                    Tortula ammonsiana                                              Ammon's Screw-Moss  \n                    Trifolium bolanderi                                                 Parasol Clover  \n                    Trillium pusillum var. pusillum                                    Dwarf Wakerobin  \n                    Vaccinium hirsutum                                                 Hairy Blueberry  \n                    Vermivora ruficapilla                                            Nashville Warbler  \n                    Wilsonia pusilla                                                  Wilson's Warbler  \n                    Zizia trifoliata                 Meadow Alexanders, Three-Leaved Golden Alexanders  \nThreatened          Anaxyrus canorus                                                     Yosemite Toad  \n                    Erimonax monachus                                                     Spotfin Chub  \n                    Isotria medeoloides                                          Small Whorled Pogonia  \n                    Myotis septentrionalis                    Northern Long-Eared Bat, Northern Myotis  \n                    Noturus flavipinnis                                               Yellowfin Madtom  \n                    Oncorhynchus clarkii henshawi                             Lahontan Cutthroat Trout  \n                    Oncorhynchus mykiss                                                  Rainbow Trout  \n                    Rana draytonii                                          California Red-Legged Frog  \n                    Spiraea virginiana                                                Virginia Spiraea  \n                    Ursus arctos horribilis                                               Grizzly Bear  \n\n[5543 rows x 2 columns]\n",
          "name": "stdout"
        }
      ]
    },
    {
      "metadata": {},
      "cell_type": "markdown",
      "source": "Let's use `plt.bar` to create a bar chart.  First, let's sort the columns by how many species are in each categories.  We can do this using `.sort_values`.  We use the the keyword `by` to indicate which column we want to sort by.\n\nPaste the following code and run it to create a new DataFrame called `protection_counts`, which is sorted by `scientific_name`:\n```python\nprotection_counts = species.groupby('conservation_status')\\\n    .scientific_name.nunique().reset_index()\\\n    .sort_values(by='scientific_name')\n```"
    },
    {
      "metadata": {
        "trusted": true
      },
      "cell_type": "code",
      "source": "protection_counts = species.groupby('conservation_status')\\\n    .scientific_name.nunique().reset_index()\\\n    .sort_values(by='scientific_name')",
      "execution_count": 17,
      "outputs": []
    },
    {
      "metadata": {},
      "cell_type": "markdown",
      "source": "Now let's create a bar chart!\n1. Start by creating a wide figure with `figsize=(10, 4)`\n1. Start by creating an axes object called `ax` using `plt.subplot`.\n2. Create a bar chart whose heights are equal to `scientific_name` column of `protection_counts`.\n3. Create an x-tick for each of the bars.\n4. Label each x-tick with the label from `conservation_status` in `protection_counts`\n5. Label the y-axis `Number of Species`\n6. Title the graph `Conservation Status by Species`\n7. Plot the grap using `plt.show()`"
    },
    {
      "metadata": {
        "trusted": true
      },
      "cell_type": "code",
      "source": "plt.figure(figsize=(10, 4))\nax = plt.subplot()\nplt.bar(range(len(protection_counts)),protection_counts.scientific_name.values)\nax.set_xticks(range(len(protection_counts)))\nax.set_xticklabels(protection_counts.conservation_status.values)\nplt.ylabel('Number of Species')\nplt.title('Conservation Status by Species')\nplt.show()",
      "execution_count": 18,
      "outputs": [
        {
          "output_type": "display_data",
          "data": {
            "image/png": "[encoded data removed]",
            "text/plain": "<matplotlib.figure.Figure at 0x7fd502bb6a20>"
          },
          "metadata": {}
        }
      ]
    },
    {
      "metadata": {},
      "cell_type": "markdown",
      "source": "# Step 4\nAre certain types of species more likely to be endangered?"
    },
    {
      "metadata": {},
      "cell_type": "markdown",
      "source": "Let's create a new column in `species` called `is_protected`, which is `True` if `conservation_status` is not equal to `No Intervention`, and `False` otherwise."
    },
    {
      "metadata": {
        "trusted": true
      },
      "cell_type": "code",
      "source": "species['is_protected'] = species.conservation_status != 'No Intervention'",
      "execution_count": 20,
      "outputs": []
    },
    {
      "metadata": {},
      "cell_type": "markdown",
      "source": "Let's group the `species` data frame by the `category` and `is_protected` columns and count the unique `scientific_name`s in each grouping.\n\nSave your results to `category_counts`."
    },
    {
      "metadata": {
        "trusted": true
      },
      "cell_type": "code",
      "source": "category_counts = species.groupby(['category', 'is_protected']).scientific_name.nunique().reset_index()",
      "execution_count": 21,
      "outputs": []
    },
    {
      "metadata": {},
      "cell_type": "markdown",
      "source": "Examine `category_counts` using `head()`."
    },
    {
      "metadata": {
        "trusted": true
      },
      "cell_type": "code",
      "source": "print(category_counts.head())",
      "execution_count": 22,
      "outputs": [
        {
          "output_type": "stream",
          "text": "    category is_protected  scientific_name\n0  Amphibian        False               72\n1  Amphibian         True                7\n2       Bird        False              413\n3       Bird         True               75\n4       Fish        False              115\n",
          "name": "stdout"
        }
      ]
    },
    {
      "metadata": {
        "collapsed": true
      },
      "cell_type": "markdown",
      "source": "It's going to be easier to view this data if we pivot it.  Using `pivot`, rearange `category_counts` so that:\n- `columns` is `is_protected`\n- `index` is `category`\n- `values` is `scientific_name`\n\nSave your pivoted data to `category_pivot`. Remember to `reset_index()` at the end."
    },
    {
      "metadata": {
        "trusted": true
      },
      "cell_type": "code",
      "source": "category_pivot = category_counts.pivot(columns='is_protected',\n                                      index='category',\n                                      values='scientific_name').reset_index()",
      "execution_count": 24,
      "outputs": []
    },
    {
      "metadata": {},
      "cell_type": "markdown",
      "source": "Examine `category_pivot`."
    },
    {
      "metadata": {
        "trusted": true
      },
      "cell_type": "code",
      "source": "print(category_pivot.head())",
      "execution_count": 25,
      "outputs": [
        {
          "output_type": "stream",
          "text": "is_protected           category  False  True\n0                     Amphibian     72     7\n1                          Bird    413    75\n2                          Fish    115    11\n3                        Mammal    146    30\n4             Nonvascular Plant    328     5\n",
          "name": "stdout"
        }
      ]
    },
    {
      "metadata": {},
      "cell_type": "markdown",
      "source": "Use the `.columns` property to  rename the categories `True` and `False` to something more description:\n- Leave `category` as `category`\n- Rename `False` to `not_protected`\n- Rename `True` to `protected`"
    },
    {
      "metadata": {
        "trusted": true
      },
      "cell_type": "code",
      "source": "category_pivot.columns = ['category', 'not_protected', 'protected']",
      "execution_count": 26,
      "outputs": []
    },
    {
      "metadata": {},
      "cell_type": "markdown",
      "source": "Let's create a new column of `category_pivot` called `percent_protected`, which is equal to `protected` (the number of species that are protected) divided by `protected` plus `not_protected` (the total number of species)."
    },
    {
      "metadata": {
        "trusted": true
      },
      "cell_type": "code",
      "source": "category_pivot['percent_protected'] = category_pivot.protected / (category_pivot.protected + category_pivot.not_protected)",
      "execution_count": 27,
      "outputs": []
    },
    {
      "metadata": {},
      "cell_type": "markdown",
      "source": "Examine `category_pivot`."
    },
    {
      "metadata": {
        "trusted": true
      },
      "cell_type": "code",
      "source": "category_pivot",
      "execution_count": 33,
      "outputs": [
        {
          "output_type": "execute_result",
          "execution_count": 33,
          "data": {
            "text/plain": "            category  not_protected  protected  percent_protected\n0          Amphibian             72          7           0.088608\n1               Bird            413         75           0.153689\n2               Fish            115         11           0.087302\n3             Mammal            146         30           0.170455\n4  Nonvascular Plant            328          5           0.015015\n5            Reptile             73          5           0.064103\n6     Vascular Plant           4216         46           0.010793",
            "text/html": "<div>\n<table border=\"1\" class=\"dataframe\">\n  <thead>\n    <tr style=\"text-align: right;\">\n      <th></th>\n      <th>category</th>\n      <th>not_protected</th>\n      <th>protected</th>\n      <th>percent_protected</th>\n    </tr>\n  </thead>\n  <tbody>\n    <tr>\n      <th>0</th>\n      <td>Amphibian</td>\n      <td>72</td>\n      <td>7</td>\n      <td>0.088608</td>\n    </tr>\n    <tr>\n      <th>1</th>\n      <td>Bird</td>\n      <td>413</td>\n      <td>75</td>\n      <td>0.153689</td>\n    </tr>\n    <tr>\n      <th>2</th>\n      <td>Fish</td>\n      <td>115</td>\n      <td>11</td>\n      <td>0.087302</td>\n    </tr>\n    <tr>\n      <th>3</th>\n      <td>Mammal</td>\n      <td>146</td>\n      <td>30</td>\n      <td>0.170455</td>\n    </tr>\n    <tr>\n      <th>4</th>\n      <td>Nonvascular Plant</td>\n      <td>328</td>\n      <td>5</td>\n      <td>0.015015</td>\n    </tr>\n    <tr>\n      <th>5</th>\n      <td>Reptile</td>\n      <td>73</td>\n      <td>5</td>\n      <td>0.064103</td>\n    </tr>\n    <tr>\n      <th>6</th>\n      <td>Vascular Plant</td>\n      <td>4216</td>\n      <td>46</td>\n      <td>0.010793</td>\n    </tr>\n  </tbody>\n</table>\n</div>"
          },
          "metadata": {}
        }
      ]
    },
    {
      "metadata": {},
      "cell_type": "markdown",
      "source": "It looks like species in category `Mammal` are more likely to be endangered than species in `Bird`.  We're going to do a significance test to see if this statement is true.  Before you do the significance test, consider the following questions:\n- Is the data numerical or categorical?\n- How many pieces of data are you comparing?"
    },
    {
      "metadata": {},
      "cell_type": "markdown",
      "source": "Based on those answers, you should choose to do a *chi squared test*.  In order to run a chi squared test, we'll need to create a contingency table.  Our contingency table should look like this:\n\n||protected|not protected|\n|-|-|-|\n|Mammal|?|?|\n|Bird|?|?|\n\nCreate a table called `contingency` and fill it in with the correct numbers"
    },
    {
      "metadata": {
        "trusted": true
      },
      "cell_type": "code",
      "source": "contingency =  [[30, 146],\n              [75, 413]]",
      "execution_count": 34,
      "outputs": []
    },
    {
      "metadata": {},
      "cell_type": "markdown",
      "source": "In order to perform our chi square test, we'll need to import the correct function from scipy.  Past the following code and run it:\n```py\nfrom scipy.stats import chi2_contingency\n```"
    },
    {
      "metadata": {
        "trusted": true
      },
      "cell_type": "code",
      "source": "from scipy.stats import chi2_contingency",
      "execution_count": 30,
      "outputs": []
    },
    {
      "metadata": {},
      "cell_type": "markdown",
      "source": "Now run `chi2_contingency` with `contingency`."
    },
    {
      "metadata": {
        "trusted": true
      },
      "cell_type": "code",
      "source": "chi2_contingency(contingency)",
      "execution_count": 32,
      "outputs": [
        {
          "output_type": "execute_result",
          "execution_count": 32,
          "data": {
            "text/plain": "(0.1617014831654557, 0.6875948096661336, 1, array([[ 27.8313253, 148.1686747],\n        [ 77.1686747, 410.8313253]]))"
          },
          "metadata": {}
        }
      ]
    },
    {
      "metadata": {},
      "cell_type": "markdown",
      "source": "It looks like this difference isn't significant!\n\nLet's test another.  Is the difference between `Reptile` and `Mammal` significant?"
    },
    {
      "metadata": {
        "trusted": true
      },
      "cell_type": "code",
      "source": "contingency = [[30, 146],\n              [5, 73]]\nchi2_contingency(contingency)",
      "execution_count": 36,
      "outputs": [
        {
          "output_type": "execute_result",
          "execution_count": 36,
          "data": {
            "text/plain": "(4.289183096203645, 0.03835559022969898, 1, array([[ 24.2519685, 151.7480315],\n        [ 10.7480315,  67.2519685]]))"
          },
          "metadata": {}
        }
      ]
    },
    {
      "metadata": {},
      "cell_type": "markdown",
      "source": "Yes! It looks like there is a significant difference between `Reptile` and `Mammal`!"
    },
    {
      "metadata": {},
      "cell_type": "markdown",
      "source": "# Step 5"
    },
    {
      "metadata": {},
      "cell_type": "markdown",
      "source": "Conservationists have been recording sightings of different species at several national parks for the past 7 days.  They've saved sent you their observations in a file called `observations.csv`.  Load `observations.csv` into a variable called `observations`, then use `head` to view the data."
    },
    {
      "metadata": {
        "trusted": true
      },
      "cell_type": "code",
      "source": "observations = pd.read_csv('observations.csv', index_col=None, header=0)\nobservations.head()",
      "execution_count": 37,
      "outputs": [
        {
          "output_type": "execute_result",
          "execution_count": 37,
          "data": {
            "text/plain": "            scientific_name                            park_name  observations\n0        Vicia benghalensis  Great Smoky Mountains National Park            68\n1            Neovison vison  Great Smoky Mountains National Park            77\n2         Prunus subcordata               Yosemite National Park           138\n3      Abutilon theophrasti                  Bryce National Park            84\n4  Githopsis specularioides  Great Smoky Mountains National Park            85",
            "text/html": "<div>\n<table border=\"1\" class=\"dataframe\">\n  <thead>\n    <tr style=\"text-align: right;\">\n      <th></th>\n      <th>scientific_name</th>\n      <th>park_name</th>\n      <th>observations</th>\n    </tr>\n  </thead>\n  <tbody>\n    <tr>\n      <th>0</th>\n      <td>Vicia benghalensis</td>\n      <td>Great Smoky Mountains National Park</td>\n      <td>68</td>\n    </tr>\n    <tr>\n      <th>1</th>\n      <td>Neovison vison</td>\n      <td>Great Smoky Mountains National Park</td>\n      <td>77</td>\n    </tr>\n    <tr>\n      <th>2</th>\n      <td>Prunus subcordata</td>\n      <td>Yosemite National Park</td>\n      <td>138</td>\n    </tr>\n    <tr>\n      <th>3</th>\n      <td>Abutilon theophrasti</td>\n      <td>Bryce National Park</td>\n      <td>84</td>\n    </tr>\n    <tr>\n      <th>4</th>\n      <td>Githopsis specularioides</td>\n      <td>Great Smoky Mountains National Park</td>\n      <td>85</td>\n    </tr>\n  </tbody>\n</table>\n</div>"
          },
          "metadata": {}
        }
      ]
    },
    {
      "metadata": {},
      "cell_type": "markdown",
      "source": "Some scientists are studying the number of sheep sightings at different national parks.  There are several different scientific names for different types of sheep.  We'd like to know which rows of `species` are referring to sheep.  Notice that the following code will tell us whether or not a word occurs in a string:"
    },
    {
      "metadata": {
        "trusted": true
      },
      "cell_type": "code",
      "source": "# Does \"Sheep\" occur in this string?\nstr1 = 'This string contains Sheep'\n'Sheep' in str1",
      "execution_count": 38,
      "outputs": [
        {
          "output_type": "execute_result",
          "execution_count": 38,
          "data": {
            "text/plain": "True"
          },
          "metadata": {}
        }
      ]
    },
    {
      "metadata": {
        "trusted": true
      },
      "cell_type": "code",
      "source": "# Does \"Sheep\" occur in this string?\nstr2 = 'This string contains Cows'\n'Sheep' in str2",
      "execution_count": 39,
      "outputs": [
        {
          "output_type": "execute_result",
          "execution_count": 39,
          "data": {
            "text/plain": "False"
          },
          "metadata": {}
        }
      ]
    },
    {
      "metadata": {},
      "cell_type": "markdown",
      "source": "Use `apply` and a `lambda` function to create a new column in `species` called `is_sheep` which is `True` if the `common_names` contains `'Sheep'`, and `False` otherwise."
    },
    {
      "metadata": {
        "trusted": true
      },
      "cell_type": "code",
      "source": "species['is_sheep'] = species.common_names.apply(lambda x: 'Sheep' in x)",
      "execution_count": 40,
      "outputs": []
    },
    {
      "metadata": {},
      "cell_type": "markdown",
      "source": "Select the rows of `species` where `is_sheep` is `True` and examine the results."
    },
    {
      "metadata": {
        "trusted": true
      },
      "cell_type": "code",
      "source": "species[species.is_sheep]",
      "execution_count": 41,
      "outputs": [
        {
          "output_type": "execute_result",
          "execution_count": 41,
          "data": {
            "text/plain": "            category              scientific_name  \\\n3             Mammal                   Ovis aries   \n1139  Vascular Plant             Rumex acetosella   \n2233  Vascular Plant           Festuca filiformis   \n3014          Mammal              Ovis canadensis   \n3758  Vascular Plant             Rumex acetosella   \n3761  Vascular Plant            Rumex paucifolius   \n4091  Vascular Plant                 Carex illota   \n4383  Vascular Plant  Potentilla ovina var. ovina   \n4446          Mammal      Ovis canadensis sierrae   \n\n                                           common_names conservation_status  \\\n3     Domestic Sheep, Mouflon, Red Sheep, Sheep (Feral)     No Intervention   \n1139                        Sheep Sorrel, Sheep Sorrell     No Intervention   \n2233                              Fineleaf Sheep Fescue     No Intervention   \n3014                       Bighorn Sheep, Bighorn Sheep  Species of Concern   \n3758  Common Sheep Sorrel, Field Sorrel, Red Sorrel,...     No Intervention   \n3761   Alpine Sheep Sorrel, Fewleaved Dock, Meadow Dock     No Intervention   \n4091                       Sheep Sedge, Smallhead Sedge     No Intervention   \n4383                                   Sheep Cinquefoil     No Intervention   \n4446                        Sierra Nevada Bighorn Sheep          Endangered   \n\n     is_protected is_sheep  \n3           False     True  \n1139        False     True  \n2233        False     True  \n3014         True     True  \n3758        False     True  \n3761        False     True  \n4091        False     True  \n4383        False     True  \n4446         True     True  ",
            "text/html": "<div>\n<table border=\"1\" class=\"dataframe\">\n  <thead>\n    <tr style=\"text-align: right;\">\n      <th></th>\n      <th>category</th>\n      <th>scientific_name</th>\n      <th>common_names</th>\n      <th>conservation_status</th>\n      <th>is_protected</th>\n      <th>is_sheep</th>\n    </tr>\n  </thead>\n  <tbody>\n    <tr>\n      <th>3</th>\n      <td>Mammal</td>\n      <td>Ovis aries</td>\n      <td>Domestic Sheep, Mouflon, Red Sheep, Sheep (Feral)</td>\n      <td>No Intervention</td>\n      <td>False</td>\n      <td>True</td>\n    </tr>\n    <tr>\n      <th>1139</th>\n      <td>Vascular Plant</td>\n      <td>Rumex acetosella</td>\n      <td>Sheep Sorrel, Sheep Sorrell</td>\n      <td>No Intervention</td>\n      <td>False</td>\n      <td>True</td>\n    </tr>\n    <tr>\n      <th>2233</th>\n      <td>Vascular Plant</td>\n      <td>Festuca filiformis</td>\n      <td>Fineleaf Sheep Fescue</td>\n      <td>No Intervention</td>\n      <td>False</td>\n      <td>True</td>\n    </tr>\n    <tr>\n      <th>3014</th>\n      <td>Mammal</td>\n      <td>Ovis canadensis</td>\n      <td>Bighorn Sheep, Bighorn Sheep</td>\n      <td>Species of Concern</td>\n      <td>True</td>\n      <td>True</td>\n    </tr>\n    <tr>\n      <th>3758</th>\n      <td>Vascular Plant</td>\n      <td>Rumex acetosella</td>\n      <td>Common Sheep Sorrel, Field Sorrel, Red Sorrel,...</td>\n      <td>No Intervention</td>\n      <td>False</td>\n      <td>True</td>\n    </tr>\n    <tr>\n      <th>3761</th>\n      <td>Vascular Plant</td>\n      <td>Rumex paucifolius</td>\n      <td>Alpine Sheep Sorrel, Fewleaved Dock, Meadow Dock</td>\n      <td>No Intervention</td>\n      <td>False</td>\n      <td>True</td>\n    </tr>\n    <tr>\n      <th>4091</th>\n      <td>Vascular Plant</td>\n      <td>Carex illota</td>\n      <td>Sheep Sedge, Smallhead Sedge</td>\n      <td>No Intervention</td>\n      <td>False</td>\n      <td>True</td>\n    </tr>\n    <tr>\n      <th>4383</th>\n      <td>Vascular Plant</td>\n      <td>Potentilla ovina var. ovina</td>\n      <td>Sheep Cinquefoil</td>\n      <td>No Intervention</td>\n      <td>False</td>\n      <td>True</td>\n    </tr>\n    <tr>\n      <th>4446</th>\n      <td>Mammal</td>\n      <td>Ovis canadensis sierrae</td>\n      <td>Sierra Nevada Bighorn Sheep</td>\n      <td>Endangered</td>\n      <td>True</td>\n      <td>True</td>\n    </tr>\n  </tbody>\n</table>\n</div>"
          },
          "metadata": {}
        }
      ]
    },
    {
      "metadata": {},
      "cell_type": "markdown",
      "source": "Many of the results are actually plants.  Select the rows of `species` where `is_sheep` is `True` and `category` is `Mammal`.  Save the results to the variable `sheep_species`."
    },
    {
      "metadata": {
        "trusted": true
      },
      "cell_type": "code",
      "source": "sheep_species = species[(species.is_sheep) & (species.category == 'Mammal')]\nsheep_species.head()",
      "execution_count": 43,
      "outputs": [
        {
          "output_type": "execute_result",
          "execution_count": 43,
          "data": {
            "text/plain": "     category          scientific_name  \\\n3      Mammal               Ovis aries   \n3014   Mammal          Ovis canadensis   \n4446   Mammal  Ovis canadensis sierrae   \n\n                                           common_names conservation_status  \\\n3     Domestic Sheep, Mouflon, Red Sheep, Sheep (Feral)     No Intervention   \n3014                       Bighorn Sheep, Bighorn Sheep  Species of Concern   \n4446                        Sierra Nevada Bighorn Sheep          Endangered   \n\n     is_protected is_sheep  \n3           False     True  \n3014         True     True  \n4446         True     True  ",
            "text/html": "<div>\n<table border=\"1\" class=\"dataframe\">\n  <thead>\n    <tr style=\"text-align: right;\">\n      <th></th>\n      <th>category</th>\n      <th>scientific_name</th>\n      <th>common_names</th>\n      <th>conservation_status</th>\n      <th>is_protected</th>\n      <th>is_sheep</th>\n    </tr>\n  </thead>\n  <tbody>\n    <tr>\n      <th>3</th>\n      <td>Mammal</td>\n      <td>Ovis aries</td>\n      <td>Domestic Sheep, Mouflon, Red Sheep, Sheep (Feral)</td>\n      <td>No Intervention</td>\n      <td>False</td>\n      <td>True</td>\n    </tr>\n    <tr>\n      <th>3014</th>\n      <td>Mammal</td>\n      <td>Ovis canadensis</td>\n      <td>Bighorn Sheep, Bighorn Sheep</td>\n      <td>Species of Concern</td>\n      <td>True</td>\n      <td>True</td>\n    </tr>\n    <tr>\n      <th>4446</th>\n      <td>Mammal</td>\n      <td>Ovis canadensis sierrae</td>\n      <td>Sierra Nevada Bighorn Sheep</td>\n      <td>Endangered</td>\n      <td>True</td>\n      <td>True</td>\n    </tr>\n  </tbody>\n</table>\n</div>"
          },
          "metadata": {}
        }
      ]
    },
    {
      "metadata": {},
      "cell_type": "markdown",
      "source": "Now merge `sheep_species` with `observations` to get a DataFrame with observations of sheep.  Save this DataFrame as `sheep_observations`."
    },
    {
      "metadata": {
        "trusted": true
      },
      "cell_type": "code",
      "source": "sheep_observations = observations.merge(sheep_species)\nsheep_observations.head()",
      "execution_count": 44,
      "outputs": [
        {
          "output_type": "execute_result",
          "execution_count": 44,
          "data": {
            "text/plain": "           scientific_name                            park_name  observations  \\\n0          Ovis canadensis            Yellowstone National Park           219   \n1          Ovis canadensis                  Bryce National Park           109   \n2          Ovis canadensis               Yosemite National Park           117   \n3          Ovis canadensis  Great Smoky Mountains National Park            48   \n4  Ovis canadensis sierrae            Yellowstone National Park            67   \n\n  category                  common_names conservation_status is_protected  \\\n0   Mammal  Bighorn Sheep, Bighorn Sheep  Species of Concern         True   \n1   Mammal  Bighorn Sheep, Bighorn Sheep  Species of Concern         True   \n2   Mammal  Bighorn Sheep, Bighorn Sheep  Species of Concern         True   \n3   Mammal  Bighorn Sheep, Bighorn Sheep  Species of Concern         True   \n4   Mammal   Sierra Nevada Bighorn Sheep          Endangered         True   \n\n  is_sheep  \n0     True  \n1     True  \n2     True  \n3     True  \n4     True  ",
            "text/html": "<div>\n<table border=\"1\" class=\"dataframe\">\n  <thead>\n    <tr style=\"text-align: right;\">\n      <th></th>\n      <th>scientific_name</th>\n      <th>park_name</th>\n      <th>observations</th>\n      <th>category</th>\n      <th>common_names</th>\n      <th>conservation_status</th>\n      <th>is_protected</th>\n      <th>is_sheep</th>\n    </tr>\n  </thead>\n  <tbody>\n    <tr>\n      <th>0</th>\n      <td>Ovis canadensis</td>\n      <td>Yellowstone National Park</td>\n      <td>219</td>\n      <td>Mammal</td>\n      <td>Bighorn Sheep, Bighorn Sheep</td>\n      <td>Species of Concern</td>\n      <td>True</td>\n      <td>True</td>\n    </tr>\n    <tr>\n      <th>1</th>\n      <td>Ovis canadensis</td>\n      <td>Bryce National Park</td>\n      <td>109</td>\n      <td>Mammal</td>\n      <td>Bighorn Sheep, Bighorn Sheep</td>\n      <td>Species of Concern</td>\n      <td>True</td>\n      <td>True</td>\n    </tr>\n    <tr>\n      <th>2</th>\n      <td>Ovis canadensis</td>\n      <td>Yosemite National Park</td>\n      <td>117</td>\n      <td>Mammal</td>\n      <td>Bighorn Sheep, Bighorn Sheep</td>\n      <td>Species of Concern</td>\n      <td>True</td>\n      <td>True</td>\n    </tr>\n    <tr>\n      <th>3</th>\n      <td>Ovis canadensis</td>\n      <td>Great Smoky Mountains National Park</td>\n      <td>48</td>\n      <td>Mammal</td>\n      <td>Bighorn Sheep, Bighorn Sheep</td>\n      <td>Species of Concern</td>\n      <td>True</td>\n      <td>True</td>\n    </tr>\n    <tr>\n      <th>4</th>\n      <td>Ovis canadensis sierrae</td>\n      <td>Yellowstone National Park</td>\n      <td>67</td>\n      <td>Mammal</td>\n      <td>Sierra Nevada Bighorn Sheep</td>\n      <td>Endangered</td>\n      <td>True</td>\n      <td>True</td>\n    </tr>\n  </tbody>\n</table>\n</div>"
          },
          "metadata": {}
        }
      ]
    },
    {
      "metadata": {},
      "cell_type": "markdown",
      "source": "How many total sheep observations (across all three species) were made at each national park?  Use `groupby` to get the `sum` of `observations` for each `park_name`.  Save your answer to `obs_by_park`.\n\nThis is the total number of sheep observed in each park over the past 7 days."
    },
    {
      "metadata": {
        "trusted": true
      },
      "cell_type": "code",
      "source": "obs_by_park = sheep_observations.groupby('park_name').observations.sum().reset_index()\nobs_by_park.head()",
      "execution_count": 45,
      "outputs": [
        {
          "output_type": "execute_result",
          "execution_count": 45,
          "data": {
            "text/plain": "                             park_name  observations\n0                  Bryce National Park           250\n1  Great Smoky Mountains National Park           149\n2            Yellowstone National Park           507\n3               Yosemite National Park           282",
            "text/html": "<div>\n<table border=\"1\" class=\"dataframe\">\n  <thead>\n    <tr style=\"text-align: right;\">\n      <th></th>\n      <th>park_name</th>\n      <th>observations</th>\n    </tr>\n  </thead>\n  <tbody>\n    <tr>\n      <th>0</th>\n      <td>Bryce National Park</td>\n      <td>250</td>\n    </tr>\n    <tr>\n      <th>1</th>\n      <td>Great Smoky Mountains National Park</td>\n      <td>149</td>\n    </tr>\n    <tr>\n      <th>2</th>\n      <td>Yellowstone National Park</td>\n      <td>507</td>\n    </tr>\n    <tr>\n      <th>3</th>\n      <td>Yosemite National Park</td>\n      <td>282</td>\n    </tr>\n  </tbody>\n</table>\n</div>"
          },
          "metadata": {}
        }
      ]
    },
    {
      "metadata": {},
      "cell_type": "markdown",
      "source": "Create a bar chart showing the different number of observations per week at each park.\n\n1. Start by creating a wide figure with `figsize=(16, 4)`\n1. Start by creating an axes object called `ax` using `plt.subplot`.\n2. Create a bar chart whose heights are equal to `observations` column of `obs_by_park`.\n3. Create an x-tick for each of the bars.\n4. Label each x-tick with the label from `park_name` in `obs_by_park`\n5. Label the y-axis `Number of Observations`\n6. Title the graph `Observations of Sheep per Week`\n7. Plot the grap using `plt.show()`"
    },
    {
      "metadata": {
        "trusted": true
      },
      "cell_type": "code",
      "source": "plt.figure(figsize=(16, 4))\nax = plt.subplot()\nplt.bar(range(len(obs_by_park)),obs_by_park.observations.values)\nax.set_xticks(range(len(obs_by_park)))\nax.set_xticklabels(obs_by_park.park_name.values)\nplt.ylabel('Number of Observations')\nplt.title('Observations of Sheep per Week')\nplt.show()",
      "execution_count": 46,
      "outputs": [
        {
          "output_type": "display_data",
          "data": {
            "image/png": "[encoded data removed]",
            "text/plain": "<matplotlib.figure.Figure at 0x7fd501acf9e8>"
          },
          "metadata": {}
        }
      ]
    },
    {
      "metadata": {},
      "cell_type": "markdown",
      "source": "Our scientists know that 15% of sheep at Bryce National Park have foot and mouth disease.  Park rangers at Yellowstone National Park have been running a program to reduce the rate of foot and mouth disease at that park.  The scientists want to test whether or not this program is working.  They want to be able to detect reductions of at least 5 percentage points.  For instance, if 10% of sheep in Yellowstone have foot and mouth disease, they'd like to be able to know this, with confidence.\n\nUse <a href=\"https://s3.amazonaws.com/codecademy-content/courses/learn-hypothesis-testing/a_b_sample_size/index.html\">Codecademy's sample size calculator</a> to calculate the number of sheep that they would need to observe from each park.  Use the default level of significance (90%).\n\nRemember that \"Minimum Detectable Effect\" is a percent of the baseline."
    },
    {
      "metadata": {
        "trusted": true
      },
      "cell_type": "code",
      "source": "minimum_detectable_effect = 100 * 0.05 / 0.15\nprint(minimum_detectable_effect)",
      "execution_count": 47,
      "outputs": [
        {
          "output_type": "stream",
          "text": "33.333333333333336\n",
          "name": "stdout"
        }
      ]
    },
    {
      "metadata": {},
      "cell_type": "markdown",
      "source": "How many weeks would you need to observe sheep at Bryce National Park in order to observe enough sheep?  How many weeks would you need to observe at Yellowstone National Park to observe enough sheep?"
    },
    {
      "metadata": {
        "trusted": true
      },
      "cell_type": "code",
      "source": "bryce_park = 870 / 250.\nyellowstone_park = 810 / 507.",
      "execution_count": 50,
      "outputs": []
    },
    {
      "metadata": {
        "trusted": true
      },
      "cell_type": "code",
      "source": "print(bryce_park)\nprint(yellowstone_park)",
      "execution_count": 51,
      "outputs": [
        {
          "output_type": "stream",
          "text": "3.48\n1.5976331360946745\n",
          "name": "stdout"
        }
      ]
    },
    {
      "metadata": {
        "trusted": true
      },
      "cell_type": "code",
      "source": "",
      "execution_count": null,
      "outputs": []
    }
  ],
  "metadata": {
    "kernelspec": {
      "name": "python3",
      "display_name": "Python 3",
      "language": "python"
    },
    "language_info": {
      "mimetype": "text/x-python",
      "nbconvert_exporter": "python",
      "name": "python",
      "pygments_lexer": "ipython3",
      "version": "3.5.4",
      "file_extension": ".py",
      "codemirror_mode": {
        "version": 3,
        "name": "ipython"
      }
    }
  },
  "nbformat": 4,
  "nbformat_minor": 2
}